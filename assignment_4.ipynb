{
  "cells": [
    {
      "cell_type": "markdown",
      "metadata": {
        "id": "MHqzsjEOJHGJ"
      },
      "source": [
        "## Overview of Assignment 4\n",
        "\n",
        "This assignment focuses on exploring and implementing advanced concepts and techniques in information retrieval. The primary objectives are to build Retrieval Augumentation Generation, and learn about Language Models"
      ]
    },
    {
      "cell_type": "markdown",
      "metadata": {
        "id": "MXdWaUzfJHGJ"
      },
      "source": [
        "## Enter your details below"
      ]
    },
    {
      "cell_type": "markdown",
      "metadata": {
        "id": "CNclAh9CJHGJ"
      },
      "source": [
        "## Name"
      ]
    },
    {
      "cell_type": "code",
      "execution_count": null,
      "metadata": {
        "id": "PuWiwYHTJHGJ"
      },
      "outputs": [],
      "source": [
        "Riham Otman"
      ]
    },
    {
      "cell_type": "markdown",
      "metadata": {
        "id": "yd5IhS3EJHGJ"
      },
      "source": [
        "## Banner ID"
      ]
    },
    {
      "cell_type": "code",
      "execution_count": null,
      "metadata": {
        "id": "DWa2ckxKJHGJ"
      },
      "outputs": [],
      "source": [
        "B00887629"
      ]
    },
    {
      "cell_type": "markdown",
      "metadata": {
        "id": "JbAHaTRdJHGJ"
      },
      "source": [
        "## GitHub Link of your Assingment 4"
      ]
    },
    {
      "cell_type": "markdown",
      "metadata": {
        "id": "RfkcAuvNJHGJ"
      },
      "source": [
        "https://github.com/Riham-Otman/csci4141-assignment4-rag"
      ]
    },
    {
      "cell_type": "markdown",
      "metadata": {
        "id": "FhhBWYP9JHGJ"
      },
      "source": [
        "## Q1 : Setting up the libraries and the environment"
      ]
    },
    {
      "cell_type": "markdown",
      "metadata": {
        "id": "qLZ0_YZhJHGJ"
      },
      "source": [
        "## Q2:  Data Preprocessing and Model Selection"
      ]
    },
    {
      "cell_type": "markdown",
      "metadata": {
        "id": "sw7TRLxUJHGJ"
      },
      "source": [
        "## Q3: Implementing RAG using LangChain for different queries"
      ]
    },
    {
      "cell_type": "markdown",
      "metadata": {
        "id": "-bPIzqJbJHGJ"
      },
      "source": [
        "## Q4 : Modify and evaluate the different components of RAG"
      ]
    },
    {
      "cell_type": "markdown",
      "metadata": {
        "id": "DnIGDVbYJHGK"
      },
      "source": [
        "## Q5: Selecting and implementing a pretrained model for a new task"
      ]
    }
  ],
  "metadata": {
    "language_info": {
      "name": "python"
    },
    "colab": {
      "provenance": []
    },
    "kernelspec": {
      "name": "python3",
      "display_name": "Python 3"
    }
  },
  "nbformat": 4,
  "nbformat_minor": 0
}